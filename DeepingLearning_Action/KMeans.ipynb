{
 "cells": [
  {
   "cell_type": "code",
   "execution_count": 91,
   "metadata": {
    "collapsed": false
   },
   "outputs": [],
   "source": [
    "from numpy import *\n",
    "def loadDataSet(filename):\n",
    "    fr = open(filename)\n",
    "    fltLine = []\n",
    "    for line in fr.readlines():\n",
    "        curLine = line.strip().split('\\t')\n",
    "        fltLine.append(curLine)\n",
    "    return mat(fltLine).astype('float64')#这里需要转换成float不然会报错\n",
    "\n",
    "#计算两个向量的欧式距离各个树的平方和再开更更号\n",
    "def distEclud(vecA,vecB):\n",
    "    return sqrt(sum(power(vecA-vecB,2)))\n",
    "\n",
    "#对于给定的数据集，创建一个包含k个随机质心的集合\n",
    "def randCent(dataSet,k):\n",
    "    n = shape(dataSet)[1]\n",
    "    centroids = mat(zeros((k,n)))\n",
    "    for j in range(n):\n",
    "        minJ = min(dataSet[:,j])#每一列中的最小值\n",
    "        maxJ = max(dataSet[:,j])\n",
    "        rangeJ = float((maxJ - minJ)/k)\n",
    "        centroids[:,j] = minJ +rangeJ*random.rand(k,1)#这里通过每一维的最大值最小值通过取值范围和最小值和差值达到数据的边界\n",
    "    return centroids\n",
    "\n",
    "def kMeans(dataSet, k, distMeas=distEclud, createCent=randCent):\n",
    "    m = shape(dataSet)[0]\n",
    "    clusterAssment = mat(zeros((m,2)))#create mat to assign data points \n",
    "                                      #to a centroid, also holds SE of each point\n",
    "    centroids = createCent(dataSet, k)\n",
    "    clusterChanged = True#标志变量为TRUE继续迭代\n",
    "    while clusterChanged:\n",
    "        clusterChanged = False\n",
    "        for i in range(m):#对每一行的数据\n",
    "            minDist = inf; minIndex = -1\n",
    "            for j in range(k):#对于k列中的数据进行计算得到与中间值的欧式距离\n",
    "                distJI = distMeas(centroids[j,:],dataSet[i,:])\n",
    "                if distJI < minDist:\n",
    "                    minDist = distJI; minIndex = j\n",
    "            if clusterAssment[i,0] != minIndex: clusterChanged = True#将第每一行的最小的欧式距离存到clusterAssment\n",
    "            clusterAssment[i,:] = minIndex,minDist**2\n",
    "        print(centroids)\n",
    "        for cent in range(k):#recalculate centroids\n",
    "            ptsInClust = dataSet[nonzero(clusterAssment[:,0].A==cent)[0]]#得到集群中的所有值\n",
    "            centroids[cent,:] = mean(ptsInClust, axis=0) #得到均值(列)，更新质点的位置\n",
    "    return centroids, clusterAssment"
   ]
  },
  {
   "cell_type": "code",
   "execution_count": 82,
   "metadata": {
    "collapsed": false
   },
   "outputs": [
    {
     "data": {
      "text/plain": [
       "matrix([[ 1.658985,  4.285136],\n",
       "        [-3.453687,  3.424321],\n",
       "        [ 4.838138, -1.151539],\n",
       "        [-5.379713, -3.362104],\n",
       "        [ 0.972564,  2.924086],\n",
       "        [-3.567919,  1.531611],\n",
       "        [ 0.450614, -3.302219],\n",
       "        [-3.487105, -1.724432],\n",
       "        [ 2.668759,  1.594842],\n",
       "        [-3.156485,  3.191137],\n",
       "        [ 3.165506, -3.999838],\n",
       "        [-2.786837, -3.099354],\n",
       "        [ 4.208187,  2.984927],\n",
       "        [-2.123337,  2.943366],\n",
       "        [ 0.704199, -0.479481],\n",
       "        [-0.39237 , -3.963704],\n",
       "        [ 2.831667,  1.574018],\n",
       "        [-0.790153,  3.343144],\n",
       "        [ 2.943496, -3.357075],\n",
       "        [-3.195883, -2.283926],\n",
       "        [ 2.336445,  2.875106],\n",
       "        [-1.786345,  2.554248],\n",
       "        [ 2.190101, -1.90602 ],\n",
       "        [-3.403367, -2.778288],\n",
       "        [ 1.778124,  3.880832],\n",
       "        [-1.688346,  2.230267],\n",
       "        [ 2.592976, -2.054368],\n",
       "        [-4.007257, -3.207066],\n",
       "        [ 2.257734,  3.387564],\n",
       "        [-2.679011,  0.785119],\n",
       "        [ 0.939512, -4.023563],\n",
       "        [-3.674424, -2.261084],\n",
       "        [ 2.046259,  2.735279],\n",
       "        [-3.18947 ,  1.780269],\n",
       "        [ 4.372646, -0.822248],\n",
       "        [-2.579316, -3.497576],\n",
       "        [ 1.889034,  5.1904  ],\n",
       "        [-0.798747,  2.185588],\n",
       "        [ 2.83652 , -2.658556],\n",
       "        [-3.837877, -3.253815],\n",
       "        [ 2.096701,  3.886007],\n",
       "        [-2.709034,  2.923887],\n",
       "        [ 3.367037, -3.184789],\n",
       "        [-2.121479, -4.232586],\n",
       "        [ 2.329546,  3.179764],\n",
       "        [-3.284816,  3.273099],\n",
       "        [ 3.091414, -3.815232],\n",
       "        [-3.762093, -2.432191],\n",
       "        [ 3.542056,  2.778832],\n",
       "        [-1.736822,  4.241041],\n",
       "        [ 2.127073, -2.98368 ],\n",
       "        [-4.323818, -3.938116],\n",
       "        [ 3.792121,  5.135768],\n",
       "        [-4.786473,  3.358547],\n",
       "        [ 2.624081, -3.260715],\n",
       "        [-4.009299, -2.978115],\n",
       "        [ 2.493525,  1.96371 ],\n",
       "        [-2.513661,  2.642162],\n",
       "        [ 1.864375, -3.176309],\n",
       "        [-3.171184, -3.572452],\n",
       "        [ 2.89422 ,  2.489128],\n",
       "        [-2.562539,  2.884438],\n",
       "        [ 3.491078, -3.947487],\n",
       "        [-2.565729, -2.012114],\n",
       "        [ 3.332948,  3.983102],\n",
       "        [-1.616805,  3.573188],\n",
       "        [ 2.280615, -2.559444],\n",
       "        [-2.651229, -3.103198],\n",
       "        [ 2.321395,  3.154987],\n",
       "        [-1.685703,  2.939697],\n",
       "        [ 3.031012, -3.620252],\n",
       "        [-4.599622, -2.185829],\n",
       "        [ 4.196223,  1.126677],\n",
       "        [-2.133863,  3.093686],\n",
       "        [ 4.668892, -2.562705],\n",
       "        [-2.793241, -2.149706],\n",
       "        [ 2.884105,  3.043438],\n",
       "        [-2.967647,  2.848696],\n",
       "        [ 4.479332, -1.764772],\n",
       "        [-4.905566, -2.91107 ]])"
      ]
     },
     "execution_count": 82,
     "metadata": {},
     "output_type": "execute_result"
    }
   ],
   "source": [
    "dataSet = loadDataSet('E:/谢远东/机器学习/机器学习实践/机器学习实战源代码/machinelearninginaction/Ch10/testSet.txt')\n",
    "dataSet"
   ]
  },
  {
   "cell_type": "code",
   "execution_count": 83,
   "metadata": {
    "collapsed": false
   },
   "outputs": [
    {
     "data": {
      "text/plain": [
       "matrix([[ 4.838138]])"
      ]
     },
     "execution_count": 83,
     "metadata": {},
     "output_type": "execute_result"
    }
   ],
   "source": [
    "max(mat(dataSet).astype('float64')[:,0])"
   ]
  },
  {
   "cell_type": "code",
   "execution_count": 84,
   "metadata": {
    "collapsed": false
   },
   "outputs": [
    {
     "data": {
      "text/plain": [
       "matrix([[ 5.1904]])"
      ]
     },
     "execution_count": 84,
     "metadata": {},
     "output_type": "execute_result"
    }
   ],
   "source": [
    "max(mat(dataSet).astype('float64')[:,1])"
   ]
  },
  {
   "cell_type": "code",
   "execution_count": 85,
   "metadata": {
    "collapsed": false
   },
   "outputs": [
    {
     "data": {
      "text/plain": [
       "matrix([[-5.379713]])"
      ]
     },
     "execution_count": 85,
     "metadata": {},
     "output_type": "execute_result"
    }
   ],
   "source": [
    "min(mat(dataSet).astype('float64')[:,0])"
   ]
  },
  {
   "cell_type": "code",
   "execution_count": 86,
   "metadata": {
    "collapsed": false
   },
   "outputs": [
    {
     "data": {
      "text/plain": [
       "matrix([[-4.232586]])"
      ]
     },
     "execution_count": 86,
     "metadata": {},
     "output_type": "execute_result"
    }
   ],
   "source": [
    "min(mat(dataSet).astype('float64')[:,1])"
   ]
  },
  {
   "cell_type": "code",
   "execution_count": 87,
   "metadata": {
    "collapsed": false
   },
   "outputs": [
    {
     "data": {
      "text/plain": [
       "matrix([[-3.89104721, -3.67655037],\n",
       "        [-3.00371568, -2.09826217],\n",
       "        [-5.24825284, -1.87907603],\n",
       "        [-4.88085251, -3.38771386]])"
      ]
     },
     "execution_count": 87,
     "metadata": {},
     "output_type": "execute_result"
    }
   ],
   "source": [
    "randCent(dataSet,4)"
   ]
  },
  {
   "cell_type": "code",
   "execution_count": 89,
   "metadata": {
    "collapsed": false
   },
   "outputs": [
    {
     "data": {
      "text/plain": [
       "5.184632816681332"
      ]
     },
     "execution_count": 89,
     "metadata": {},
     "output_type": "execute_result"
    }
   ],
   "source": [
    "distEclud(dataSet[0],dataSet[1])"
   ]
  },
  {
   "cell_type": "code",
   "execution_count": 96,
   "metadata": {
    "collapsed": false
   },
   "outputs": [
    {
     "name": "stdout",
     "output_type": "stream",
     "text": [
      "[[-3.34100623 -3.52635672]\n",
      " [-3.4185104  -3.29355685]\n",
      " [-4.7758524  -2.15328971]\n",
      " [-4.38261169 -3.22764327]]\n",
      "[[ 1.94170105 -3.11794914]\n",
      " [ 0.87547393  0.96629869]\n",
      " [-2.24039879  2.55469942]\n",
      " [-4.5251306  -3.2792942 ]]\n",
      "[[ 2.7481024  -2.90572575]\n",
      " [ 2.53499033  2.93781533]\n",
      " [-2.46154315  2.78737555]\n",
      " [-3.53973889 -2.89384326]]\n",
      "[[ 2.65077367 -2.79019029]\n",
      " [ 2.6265299   3.10868015]\n",
      " [-2.46154315  2.78737555]\n",
      " [-3.53973889 -2.89384326]]\n"
     ]
    }
   ],
   "source": [
    "centroids, clusterAssment = kMeans(dataSet,4)"
   ]
  },
  {
   "cell_type": "code",
   "execution_count": 100,
   "metadata": {
    "collapsed": false
   },
   "outputs": [],
   "source": [
    "import matplotlib.pyplot as plt\n",
    "fig = plt.figure()\n",
    "ax = fig.add_subplot(111)\n",
    "ax.scatter(array(centroids)[:,0],array(centroids)[:,1],c='cyan',marker='o')\n",
    "ax.scatter(array(dataSet)[:,0],array(dataSet)[:,1],c='black',marker='o')\n",
    "plt.show()"
   ]
  }
 ],
 "metadata": {
  "kernelspec": {
   "display_name": "Python [Root]",
   "language": "python",
   "name": "Python [Root]"
  },
  "language_info": {
   "codemirror_mode": {
    "name": "ipython",
    "version": 3
   },
   "file_extension": ".py",
   "mimetype": "text/x-python",
   "name": "python",
   "nbconvert_exporter": "python",
   "pygments_lexer": "ipython3",
   "version": "3.5.1"
  }
 },
 "nbformat": 4,
 "nbformat_minor": 0
}
