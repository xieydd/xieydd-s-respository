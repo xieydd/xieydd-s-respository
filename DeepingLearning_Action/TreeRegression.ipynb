{
 "cells": [
  {
   "cell_type": "code",
   "execution_count": 1,
   "metadata": {
    "collapsed": true
   },
   "outputs": [],
   "source": [
    "class treeNode():\n",
    "    def _init_(self,feat,val,right,left):\n",
    "        deatureToSplitOn = feat\n",
    "        valueOfSplit = val\n",
    "        rightBranch = right\n",
    "        leftBranch = left"
   ]
  },
  {
   "cell_type": "code",
   "execution_count": 2,
   "metadata": {
    "collapsed": false
   },
   "outputs": [],
   "source": [
    "from numpy import *\n",
    "def loadDataSet(filename):\n",
    "    numPeat = len(open(filename).readline().split('\\t'))\n",
    "    dataMat = []\n",
    "    fr = open(filename)\n",
    "    for line in fr.readlines():\n",
    "        lineArr = []\n",
    "        curLine = line.strip().split('\\t')\n",
    "        for i in range(numPeat):\n",
    "            lineArr.append(float(curLine[i]))\n",
    "        dataMat.append(lineArr)\n",
    "    return dataMat\n",
    "    "
   ]
  },
  {
   "cell_type": "code",
   "execution_count": 3,
   "metadata": {
    "collapsed": false
   },
   "outputs": [],
   "source": [
    "def binSplitDataSet(dataSet1,feature,value): \n",
    "    dataSet = mat(dataSet1)\n",
    "    mat0 = dataSet[nonzero(dataSet[:, feature] > value)[0],:]  \n",
    "    mat1 = dataSet[nonzero(dataSet[:, feature] <= value)[0],:]  \n",
    "    return mat0, mat1 \n",
    "\n",
    "\n",
    "def regLeaf(dataSet):\n",
    "    return mean(dataSet[:,-1])\n",
    "\n",
    "def regErr(dataSet):\n",
    "    return var(dataSet[:,-1])*shape(dataSet)[0]\n",
    "\n"
   ]
  },
  {
   "cell_type": "code",
   "execution_count": 4,
   "metadata": {
    "collapsed": false
   },
   "outputs": [],
   "source": [
    "def createTree(dataSet,leafType=regLeaf,errType=regErr,ops=(1,4)):\n",
    "    feat,val = chooseBestSplit(dataSet,leafType,errType,ops)\n",
    "    if feat == None:return val\n",
    "    retTree = {}\n",
    "    retTree['spInd'] = feat\n",
    "    retTree['spVal'] = val\n",
    "    lSet,rSet = binSplitDataSet(dataSet,feat,val)\n",
    "    retTree['left'] = createTree(lSet,leafType,errType,ops)\n",
    "    retTree['right'] = createTree(rSet,leafType,errType,ops)\n",
    "    return retTree\n",
    "\n",
    "\n",
    "def chooseBestSplit(dataSet1,leafType=regLeaf,errType=regErr,ops=(1,4)):\n",
    "    dataSet = mat(dataSet1)\n",
    "    tolS = ops[0];tolN = ops[1]#从信息中提取出来这里分别设定是1,4\n",
    "    if len(set(dataSet[:,-1].T.tolist()[0])) ==1:#如果所有值相等退出\n",
    "        return None,leafType(dataSet)\n",
    "    m,n = shape(dataSet)\n",
    "    S=errType(dataSet)#求总方差\n",
    "    bestS = inf;bestIndex = 0;bestValue=0#初始化\n",
    "    for featIndex in range(n-1):#对每一个特征\n",
    "        for splitVal in set((dataSet[:,featIndex].T.A.tolist())[0]):\n",
    "            mat0,mat1 = binSplitDataSet(dataSet,featIndex,splitVal)\n",
    "            if (shape(mat0)[0]<tolN) or (shape(mat1)[0]<tolN) :continue#行数小于设定的值\n",
    "            newS = errType(mat0) + errType(mat1)#得到新的误差值判断\n",
    "            if newS < bestS:\n",
    "                bestIndex = featIndex\n",
    "                bestValue = splitVal\n",
    "                bestS = newS\n",
    "    if (S-bestS)<tolS:#如果误差减少不大就退出\n",
    "            return None,leafType(dataSet)\n",
    "    mat0,mat1 = binSplitDataSet(dataSet,bestIndex,bestValue)#如果切分的数据集很小退出\n",
    "    if (shape(mat0)[0] < tolN) or(shape(mat1)[0] < tolN):\n",
    "            return None,leafType(dataSet)\n",
    "    return bestIndex,bestValue\n",
    "\n",
    "def isTree(obj):#对于对象进行判断\n",
    "    return (type(obj).__name__=='dict')#注意name前后都是两个小短杠\n",
    "\n",
    "def getMean(tree):\n",
    "    if isTree(tree['right']) : tree['right'] = getMean(tree['right'])\n",
    "    if isTree(tree['left']) : tree['left'] = getMean(tree['left'])\n",
    "    return (tree['left']+tree['right'])/2.0\n",
    "\n",
    "def prune(tree,testData):\n",
    "    if shape(testData)[0] == 0:return getMean(tree)#如果没有测试数据就对于树进行坍塌处理\n",
    "    if (isTree(tree['left']) or isTree(tree['right'])):\n",
    "        lSet,rSet = binSplitDataSet(testData,tree['spInd'],tree['spVal'])\n",
    "    if isTree(tree['left']): tree['left'] = prune(tree['left'],lSet)#将分出来的数据作为测试数据\n",
    "    if isTree(tree['right']): tree['right'] = prune(tree['right'],rSet)\n",
    "    if not isTree(tree['left']) and not isTree(tree['right']):\n",
    "        lSet,rSet = binSplitDataSet(testData,tree['spInd'],tree['spVal'])\n",
    "        #原来的总的误差\n",
    "        errorNoMerge = sum(power(lSet[:,-1] - tree['left'],2)) + sum(power(rSet[:,-1] - tree['right'],2))\n",
    "        treeMean = (tree['left']+tree['right'])/2.0\n",
    "        #两个叶结点合并后的误差\n",
    "        errorMerge = sum(power(testData[:,-1] - treeMean,2))\n",
    "        if errorMerge < errorNoMerge: \n",
    "            print(\"merging\")\n",
    "            return treeMean\n",
    "        else: return tree\n",
    "    else: return tree\n",
    "    \n",
    "def linearSolve(dataSet):\n",
    "    m,n = shape(dataSet)\n",
    "    X = mat(ones((m,n)));Y = mat(ones((m,1)))#将X和Y中的数据格式化\n",
    "    X[:,1:n] = dataSet[:,0:n-1]; Y = dataSet[:,-1]\n",
    "    xTx = X.T*X\n",
    "    if linalg.det(xTx) == 0.0:\n",
    "        raise NameError('This matrix is singular, cannot do inverse,\\n\\\n",
    "        try increasing the second value of ops')\n",
    "    ws = xTx.I * (X.T * Y)\n",
    "    return ws,X,Y\n",
    "\n",
    "def modelLeaf(dataSet):#当数据不再需要切分的时候负责生成叶结点\n",
    "    ws,X,Y = linearSolve(dataSet)\n",
    "    return ws\n",
    "\n",
    "def modelErr(dataSet):\n",
    "    ws,X,Y = linearSolve(dataSet)\n",
    "    yHat = X * ws\n",
    "    return sum(power(Y - yHat,2))\n",
    "\n",
    "\n",
    "#如果预测回归树使用regTreeEval，如果预测模型树使用modelTreeEval\n",
    "def regTreeEval(model, inDat):#为了与下面保持一致\n",
    "    return float(model)#返回浮点数\n",
    "\n",
    "def modelTreeEval(model, inDat):\n",
    "    n = shape(inDat)[1]\n",
    "    X = mat(ones((1,n+1)))\n",
    "    X[:,1:n+1]=inDat\n",
    "    return float(X*model)\n",
    "\n",
    "def treeForeCast(tree, inData, modelEval=regTreeEval):\n",
    "    if not isTree(tree): return modelEval(tree, inData)#如果输入的是单个点或者行向量就返回一个浮点数\n",
    "    if inData[tree['spInd']] > tree['spVal']:\n",
    "        if isTree(tree['left']): return treeForeCast(tree['left'], inData, modelEval)#递归\n",
    "        else: return modelEval(tree['left'], inData)\n",
    "    else:\n",
    "        if isTree(tree['right']): return treeForeCast(tree['right'], inData, modelEval)\n",
    "        else: return modelEval(tree['right'], inData)\n",
    "        \n",
    "def createForeCast(tree, testData, modelEval=regTreeEval):\n",
    "    m=len(testData)\n",
    "    yHat = mat(zeros((m,1)))\n",
    "    for i in range(m):\n",
    "        yHat[i,0] = treeForeCast(tree, mat(testData[i]), modelEval)\n",
    "    return yHat"
   ]
  },
  {
   "cell_type": "code",
   "execution_count": 5,
   "metadata": {
    "collapsed": false
   },
   "outputs": [],
   "source": [
    "from tkinter import *#这里在3.3后需要这样小写\n",
    "from tkinter import ttk\n",
    "root = Tk()\n",
    "myLabel = Label(root,text=\"hello world\")#一个小部件\n",
    "myLabel.grid()#将myLabel的位置告诉布局管理器，这个会安排在二维表格中，没做设定将会被设定在（0,0）的位置\n",
    "root.mainloop()"
   ]
  },
  {
   "cell_type": "code",
   "execution_count": null,
   "metadata": {
    "collapsed": false
   },
   "outputs": [],
   "source": [
    "import matplotlib\n",
    "matplotlib.use('TkAgg')\n",
    "from matplotlib.backends.backend_tkagg import FigureCanvasTkAgg\n",
    "from matplotlib.figure import Figure\n",
    "\n",
    "def reDraw(tolS,tolN):\n",
    "    reDraw.f.clf()        # 清除上一个图避免重叠\n",
    "    reDraw.a = reDraw.f.add_subplot(111)\n",
    "    if chkBtnVar.get():#检查复选框，如果选上就使用线性模型回归树如果没选上使用标准回归方法\n",
    "        if tolN < 2: tolN = 2\n",
    "        myTree=regTrees.createTree(reDraw.rawDat, regTrees.modelLeaf,regTrees.modelErr, (tolS,tolN))\n",
    "        yHat = regTrees.createForeCast(myTree, reDraw.testDat,regTrees.modelTreeEval)\n",
    "    else:\n",
    "        myTree=regTrees.createTree(reDraw.rawDat, ops=(tolS,tolN))\n",
    "        yHat = regTrees.createForeCast(myTree, reDraw.testDat)\n",
    "    reDraw.a.scatter(reDraw.rawDat[:,0], reDraw.rawDat[:,1], s=5) #真实值使用scatter绘制\n",
    "    reDraw.a.plot(reDraw.testDat, yHat, linewidth=2.0) #预测值使用plot绘制\n",
    "    reDraw.canvas.show()\n",
    "\n",
    "def getInputs():\n",
    "    try: tolN = int(tolNentry.get())#期望得到的是整数\n",
    "    except: \n",
    "        tolN = 10 \n",
    "        print(\"enter Integer for tolN\")\n",
    "        tolNentry.delete(0, END)#清除错误的文本替换默认的值\n",
    "        tolNentry.insert(0,'10')\n",
    "    try: tolS = float(tolSentry.get())#期望得到的是浮点数\n",
    "    except: \n",
    "        tolS = 1.0 \n",
    "        print(\"enter Float for tolS\")\n",
    "        tolSentry.delete(0, END)\n",
    "        tolSentry.insert(0,'1.0')\n",
    "    return tolN,tolS\n",
    "\n",
    "def drawNewTree():\n",
    "    #取得输入框的值\n",
    "    tolN,tolS = getInputs()\n",
    "    # 利用tolN,tolS，调用reDraw生成漂亮的图\n",
    "    reDraw(tolS,tolN)\n",
    "\n",
    "\n",
    "#组件Entry允许单行文本输入框；Check_button是复选框；IntVar是按钮整数值\n",
    "root = Tk()\n",
    "#Label(root,text=\"画图\").grid(row=0,columnspan=3)#grid是确定组件的坐标\n",
    "reDraw.f = Figure(figsize=(5,4), dpi=100) #create canvas\n",
    "reDraw.canvas = FigureCanvasTkAgg(reDraw.f, master=root)\n",
    "reDraw.canvas.show()\n",
    "reDraw.canvas.get_tk_widget().grid(row=0, columnspan=3)\n",
    "\n",
    "\n",
    "Label(root,text=\"tolN\").grid(row=2,column=0)\n",
    "tolNentry = Entry(root)\n",
    "tolNentry.grid(row=1,column=1)\n",
    "tolNentry.insert(0,'1.0')#插入默认值\n",
    "# 点击“ReDraw”按钮后，调用drawNewTree()函数\n",
    "Button(root,text=\"ReDraw\",command=drawNewTree).grid(row=1,column=2,rowspan=3)\n",
    "chkBtnVar = IntVar()\n",
    "chkBtn = Checkbutton(root, text=\"Model Tree\", variable = chkBtnVar)\n",
    "chkBtn.grid(row=3, column=0, columnspan=2)#Checkbutton的状态需要创建一个变量，也就是IntVar\n",
    "\n",
    "#读取数据,并初始化和reDraw()相关的全局变量\n",
    "reDraw.rawDat = mat(loadDataSet('E:/谢远东/机器学习/机器学习实践/机器学习实战源代码/machinelearninginaction/Ch09/sine.txt'))\n",
    "reDraw.testDat = arange(min(reDraw.rawDat[:,0]),max(reDraw.rawDat[:,0]),0.01)\n",
    "reDraw(1.0, 10)\n",
    "\n",
    "#Button(root,text=\"退出\",fg=\"black\",command=root.quit).grid(row=1,column=2)退出键可能不太好用\n",
    "root.mainloop()\n",
    "\n"
   ]
  },
  {
   "cell_type": "code",
   "execution_count": null,
   "metadata": {
    "collapsed": false
   },
   "outputs": [],
   "source": [
    "testMat = mat(eye(4))\n",
    "testMat"
   ]
  },
  {
   "cell_type": "code",
   "execution_count": null,
   "metadata": {
    "collapsed": false
   },
   "outputs": [],
   "source": [
    "mat0,mat1 = binSplitDataSet(testMat,1,0.5)"
   ]
  },
  {
   "cell_type": "code",
   "execution_count": null,
   "metadata": {
    "collapsed": false
   },
   "outputs": [],
   "source": [
    "mat0"
   ]
  },
  {
   "cell_type": "code",
   "execution_count": null,
   "metadata": {
    "collapsed": false
   },
   "outputs": [],
   "source": [
    "mat1"
   ]
  },
  {
   "cell_type": "code",
   "execution_count": null,
   "metadata": {
    "collapsed": false
   },
   "outputs": [],
   "source": [
    "dataMat= loadDataSet('E:/谢远东/机器学习/机器学习实践/机器学习实战源代码/machinelearninginaction/Ch09/ex00.txt')\n",
    "\n",
    "dataMat"
   ]
  },
  {
   "cell_type": "code",
   "execution_count": null,
   "metadata": {
    "collapsed": false
   },
   "outputs": [],
   "source": [
    "createTree(dataMat)"
   ]
  },
  {
   "cell_type": "code",
   "execution_count": null,
   "metadata": {
    "collapsed": false
   },
   "outputs": [],
   "source": [
    "myDat1 = loadDataSet('E:/谢远东/机器学习/机器学习实践/机器学习实战源代码/machinelearninginaction/Ch09/ex0.txt')\n",
    "myDat1"
   ]
  },
  {
   "cell_type": "code",
   "execution_count": null,
   "metadata": {
    "collapsed": false
   },
   "outputs": [],
   "source": [
    "createTree(myDat1)"
   ]
  },
  {
   "cell_type": "code",
   "execution_count": null,
   "metadata": {
    "collapsed": false
   },
   "outputs": [],
   "source": [
    "myDat2 = loadDataSet('E:/谢远东/机器学习/机器学习实践/机器学习实战源代码/machinelearninginaction/Ch09/ex2.txt')\n",
    "myDat2"
   ]
  },
  {
   "cell_type": "code",
   "execution_count": null,
   "metadata": {
    "collapsed": false
   },
   "outputs": [],
   "source": [
    "createTree(myDat2)"
   ]
  },
  {
   "cell_type": "code",
   "execution_count": null,
   "metadata": {
    "collapsed": false
   },
   "outputs": [],
   "source": [
    "createTree(myDat2,ops=(10000,4))"
   ]
  },
  {
   "cell_type": "code",
   "execution_count": null,
   "metadata": {
    "collapsed": false
   },
   "outputs": [],
   "source": [
    "myTree = createTree(myDat2,ops=(0,1))\n",
    "myDatTest = loadDataSet('E:/谢远东/机器学习/机器学习实践/机器学习实战源代码/machinelearninginaction/Ch09/ex2test.txt')\n",
    "myMat2Test = mat(myDatTest)\n",
    "prune(myTree,myMat2Test)"
   ]
  },
  {
   "cell_type": "code",
   "execution_count": null,
   "metadata": {
    "collapsed": false
   },
   "outputs": [],
   "source": [
    "myDat2 = mat(loadDataSet('E:/谢远东/机器学习/机器学习实践/机器学习实战源代码/machinelearninginaction/Ch09/exp2.txt'))\n",
    "createTree(myDat2,modelLeaf,modelErr,(1,10))\n"
   ]
  },
  {
   "cell_type": "code",
   "execution_count": null,
   "metadata": {
    "collapsed": false
   },
   "outputs": [],
   "source": [
    "trainMat = mat(loadDataSet('E:/谢远东/机器学习/机器学习实践/机器学习实战源代码/machinelearninginaction/Ch09/bikeSpeedVsIq_train.txt'))\n",
    "testMat = mat(loadDataSet('E:/谢远东/机器学习/机器学习实践/机器学习实战源代码/machinelearninginaction/Ch09/bikeSpeedVsIq_test.txt'))\n",
    "myTree = createTree(trainMat,ops=(1,20))\n",
    "yHat = createForeCast(myTree,testMat[:,0])\n",
    "\n",
    "corrcoef(yHat,testMat[:,1],rowvar=0)[0,1]"
   ]
  },
  {
   "cell_type": "code",
   "execution_count": null,
   "metadata": {
    "collapsed": false
   },
   "outputs": [],
   "source": [
    "myTree1 = createTree(trainMat,modelLeaf,modelErr,(1,20))\n",
    "yHat1 = createForeCast(myTree1,testMat[:,0],modelTreeEval)\n",
    "corrcoef(yHat1,testMat[:,1],rowvar=0)[0,1]"
   ]
  },
  {
   "cell_type": "code",
   "execution_count": null,
   "metadata": {
    "collapsed": false
   },
   "outputs": [],
   "source": [
    "ws,X,Y = linearSolve(trainMat)\n",
    "m,n = shape(testMat)\n",
    "yHat2 = zeros((1,m))\n",
    "for i in range(shape(testMat)[0]):\n",
    "    yHat2[0][i] = testMat[i,0]*ws[1,0]+ws[0,0]\n",
    "    \n",
    "corrcoef(yHat2,testMat[:,1],rowvar=0)[0,1]\n"
   ]
  },
  {
   "cell_type": "code",
   "execution_count": null,
   "metadata": {
    "collapsed": false
   },
   "outputs": [],
   "source": [
    "import matplotlib.pyplot as plt\n",
    "fig=plt.figure()\n",
    "ax=fig.add_subplot(111)\n",
    "#ax.scatter(array(trainMat)[:,0],array(trainMat)[:,1],c='cyan',marker='o')\n",
    "ax.scatter(array(testMat)[:,0],array(testMat)[:,1],c='cyan',marker='o')\n",
    "plt.show()"
   ]
  }
 ],
 "metadata": {
  "kernelspec": {
   "display_name": "Python [Root]",
   "language": "python",
   "name": "Python [Root]"
  },
  "language_info": {
   "codemirror_mode": {
    "name": "ipython",
    "version": 3
   },
   "file_extension": ".py",
   "mimetype": "text/x-python",
   "name": "python",
   "nbconvert_exporter": "python",
   "pygments_lexer": "ipython3",
   "version": "3.5.1"
  }
 },
 "nbformat": 4,
 "nbformat_minor": 2
}
